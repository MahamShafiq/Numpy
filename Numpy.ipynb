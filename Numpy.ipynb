{
  "nbformat": 4,
  "nbformat_minor": 0,
  "metadata": {
    "colab": {
      "name": "Numpy.ipynb",
      "provenance": [],
      "include_colab_link": true
    },
    "kernelspec": {
      "name": "python3",
      "display_name": "Python 3"
    }
  },
  "cells": [
    {
      "cell_type": "markdown",
      "metadata": {
        "id": "view-in-github",
        "colab_type": "text"
      },
      "source": [
        "<a href=\"https://colab.research.google.com/github/MahamShafiq/Numpy/blob/master/Numpy.ipynb\" target=\"_parent\"><img src=\"https://colab.research.google.com/assets/colab-badge.svg\" alt=\"Open In Colab\"/></a>"
      ]
    },
    {
      "cell_type": "markdown",
      "metadata": {
        "id": "H335Qwe8VuDf",
        "colab_type": "text"
      },
      "source": [
        "# Numpy Basics\n",
        "This notebook covers some of the basic functions of numpy,Moreover it has the solution of Deep Learning Nanodegree Numpy quiz udacity"
      ]
    },
    {
      "cell_type": "code",
      "metadata": {
        "id": "x4rBCAFiVwfd",
        "colab_type": "code",
        "colab": {}
      },
      "source": [
        "\n",
        "import numpy as np\n",
        "a=np.array([1,2,3])\n",
        "b=np.array([4,5,6])\n"
      ],
      "execution_count": 0,
      "outputs": []
    },
    {
      "cell_type": "code",
      "metadata": {
        "id": "84Q5bXSA7YSF",
        "colab_type": "code",
        "outputId": "85cd94a9-184c-4ac0-fc94-d0e39ebe78b7",
        "colab": {
          "base_uri": "https://localhost:8080/",
          "height": 70
        }
      },
      "source": [
        "c=np.column_stack((a,b))\n",
        "c"
      ],
      "execution_count": 0,
      "outputs": [
        {
          "output_type": "execute_result",
          "data": {
            "text/plain": [
              "array([[1, 4],\n",
              "       [2, 5],\n",
              "       [3, 6]])"
            ]
          },
          "metadata": {
            "tags": []
          },
          "execution_count": 2
        }
      ]
    },
    {
      "cell_type": "code",
      "metadata": {
        "id": "nWlBKhx3H36M",
        "colab_type": "code",
        "outputId": "a18d4ed1-3c45-4768-a05e-e118ed14acb5",
        "colab": {
          "base_uri": "https://localhost:8080/",
          "height": 52
        }
      },
      "source": [
        "c=np.row_stack((a,b))\n",
        "c"
      ],
      "execution_count": 0,
      "outputs": [
        {
          "output_type": "execute_result",
          "data": {
            "text/plain": [
              "array([[1, 2, 3],\n",
              "       [4, 5, 6]])"
            ]
          },
          "metadata": {
            "tags": []
          },
          "execution_count": 4
        }
      ]
    },
    {
      "cell_type": "code",
      "metadata": {
        "id": "45fI_iE575gO",
        "colab_type": "code",
        "outputId": "68f100ed-64bc-455a-dc7a-b8a763b572d7",
        "colab": {
          "base_uri": "https://localhost:8080/",
          "height": 34
        }
      },
      "source": [
        "j=np.hstack((a,b))\n",
        "j"
      ],
      "execution_count": 0,
      "outputs": [
        {
          "output_type": "execute_result",
          "data": {
            "text/plain": [
              "array([1, 2, 3, 4, 5, 6])"
            ]
          },
          "metadata": {
            "tags": []
          },
          "execution_count": 3
        }
      ]
    },
    {
      "cell_type": "code",
      "metadata": {
        "id": "WANDMoObH9g_",
        "colab_type": "code",
        "outputId": "f098b558-473d-47d1-8e9f-d76136c32fde",
        "colab": {
          "base_uri": "https://localhost:8080/",
          "height": 52
        }
      },
      "source": [
        "j=np.vstack((a,b))\n",
        "j"
      ],
      "execution_count": 0,
      "outputs": [
        {
          "output_type": "execute_result",
          "data": {
            "text/plain": [
              "array([[1, 2, 3],\n",
              "       [4, 5, 6]])"
            ]
          },
          "metadata": {
            "tags": []
          },
          "execution_count": 5
        }
      ]
    },
    {
      "cell_type": "code",
      "metadata": {
        "id": "zkqu2KSdIDlm",
        "colab_type": "code",
        "outputId": "33b76f73-96a9-4f20-855f-6de3db306b5e",
        "colab": {
          "base_uri": "https://localhost:8080/",
          "height": 70
        }
      },
      "source": [
        "j=np.dstack((a,b))\n",
        "j"
      ],
      "execution_count": 0,
      "outputs": [
        {
          "output_type": "execute_result",
          "data": {
            "text/plain": [
              "array([[[1, 4],\n",
              "        [2, 5],\n",
              "        [3, 6]]])"
            ]
          },
          "metadata": {
            "tags": []
          },
          "execution_count": 8
        }
      ]
    },
    {
      "cell_type": "code",
      "metadata": {
        "id": "ads9Lvxu8E0v",
        "colab_type": "code",
        "outputId": "eec6dce4-48eb-424c-d803-4a7ffd2733b0",
        "colab": {
          "base_uri": "https://localhost:8080/",
          "height": 34
        }
      },
      "source": [
        "c.flatten()\n",
        "a,b=c.shape\n",
        "b\n"
      ],
      "execution_count": 0,
      "outputs": [
        {
          "output_type": "execute_result",
          "data": {
            "text/plain": [
              "(2, 3)"
            ]
          },
          "metadata": {
            "tags": []
          },
          "execution_count": 21
        }
      ]
    },
    {
      "cell_type": "code",
      "metadata": {
        "id": "6fy9PCqF8v5-",
        "colab_type": "code",
        "outputId": "f2279fda-4fd6-4159-e34c-385db59fadcd",
        "colab": {
          "base_uri": "https://localhost:8080/",
          "height": 34
        }
      },
      "source": [
        "c.ravel()"
      ],
      "execution_count": 0,
      "outputs": [
        {
          "output_type": "execute_result",
          "data": {
            "text/plain": [
              "array([1, 2, 3, 4, 5, 6])"
            ]
          },
          "metadata": {
            "tags": []
          },
          "execution_count": 11
        }
      ]
    },
    {
      "cell_type": "code",
      "metadata": {
        "id": "z2yQe38O8zy3",
        "colab_type": "code",
        "outputId": "58366215-9f85-4f63-e311-5a417297ab71",
        "colab": {
          "base_uri": "https://localhost:8080/",
          "height": 34
        }
      },
      "source": [
        "np.split(d,[2,3])"
      ],
      "execution_count": 0,
      "outputs": [
        {
          "output_type": "execute_result",
          "data": {
            "text/plain": [
              "[array([1, 2]), array([3]), array([4, 5, 6])]"
            ]
          },
          "metadata": {
            "tags": []
          },
          "execution_count": 12
        }
      ]
    },
    {
      "cell_type": "code",
      "metadata": {
        "id": "Ui98EtsE8_eW",
        "colab_type": "code",
        "outputId": "b236f34c-1de3-4600-f08e-b6261bb1e280",
        "colab": {
          "base_uri": "https://localhost:8080/",
          "height": 34
        }
      },
      "source": [
        "np.tile(d,2)"
      ],
      "execution_count": 0,
      "outputs": [
        {
          "output_type": "execute_result",
          "data": {
            "text/plain": [
              "array([1, 2, 3, 4, 5, 6, 1, 2, 3, 4, 5, 6])"
            ]
          },
          "metadata": {
            "tags": []
          },
          "execution_count": 13
        }
      ]
    },
    {
      "cell_type": "code",
      "metadata": {
        "id": "dPN6iBiQ9cUW",
        "colab_type": "code",
        "outputId": "0f641857-be2a-49ed-b7ef-84183d8e3701",
        "colab": {
          "base_uri": "https://localhost:8080/",
          "height": 34
        }
      },
      "source": [
        "np.repeat(d,2)"
      ],
      "execution_count": 0,
      "outputs": [
        {
          "output_type": "execute_result",
          "data": {
            "text/plain": [
              "array([1, 1, 2, 2, 3, 3, 4, 4, 5, 5, 6, 6])"
            ]
          },
          "metadata": {
            "tags": []
          },
          "execution_count": 15
        }
      ]
    },
    {
      "cell_type": "code",
      "metadata": {
        "id": "u07pWuci9qQO",
        "colab_type": "code",
        "outputId": "831910f9-91ee-416b-f58b-7381f32b0f2d",
        "colab": {
          "base_uri": "https://localhost:8080/",
          "height": 34
        }
      },
      "source": [
        "d[2:4:2]"
      ],
      "execution_count": 0,
      "outputs": [
        {
          "output_type": "execute_result",
          "data": {
            "text/plain": [
              "array([3])"
            ]
          },
          "metadata": {
            "tags": []
          },
          "execution_count": 16
        }
      ]
    },
    {
      "cell_type": "code",
      "metadata": {
        "id": "GiSbLM1V95k_",
        "colab_type": "code",
        "outputId": "a8ea1fc9-acde-4140-8ef3-092fe53603ae",
        "colab": {
          "base_uri": "https://localhost:8080/",
          "height": 34
        }
      },
      "source": [
        "np.arange(10)\n"
      ],
      "execution_count": 0,
      "outputs": [
        {
          "output_type": "execute_result",
          "data": {
            "text/plain": [
              "array([0, 1, 2, 3, 4, 5, 6, 7, 8, 9])"
            ]
          },
          "metadata": {
            "tags": []
          },
          "execution_count": 17
        }
      ]
    },
    {
      "cell_type": "code",
      "metadata": {
        "id": "zsTkFnOW-HGm",
        "colab_type": "code",
        "outputId": "82e93622-ccf0-493f-da27-5cbbfa7ce482",
        "colab": {
          "base_uri": "https://localhost:8080/",
          "height": 212
        }
      },
      "source": [
        "# Use the numpy library\n",
        "import numpy as np\n",
        "\n",
        "\n",
        "def prepare_inputs(inputs):\n",
        "    # TODO: create a 2-dimensional ndarray from the given 1-dimensional list;\n",
        "    #       assign it to input_array\n",
        "    input_array = np.array([inputs])\n",
        "    \n",
        "    # TODO: find the minimum value in input_array and subtract that\n",
        "    #       value from all the elements of input_array. Store the\n",
        "    #       result in inputs_minus_min\n",
        "    inputs_minus_min = input_array-np.min(input_array)\n",
        "\n",
        "    # TODO: find the maximum value in inputs_minus_min and divide\n",
        "    #       all of the values in inputs_minus_min by the maximum value.\n",
        "    #       Store the results in inputs_div_max.\n",
        "    inputs_div_max = inputs_minus_min/np.max(inputs_minus_min)\n",
        "\n",
        "    # return the three arrays we've created\n",
        "    return input_array, inputs_minus_min, inputs_div_max\n",
        "    \n",
        "\n",
        "def multiply_inputs(m1, m2):\n",
        "    # TODO: Check the shapes of the matrices m1 and m2. \n",
        "    #       m1 and m2 will be ndarray objects.\n",
        "    #\n",
        "    #       Return False if the shapes cannot be used for matrix\n",
        "    #       multiplication. You may not use a transpose\n",
        "    a,b=m1.shape\n",
        "    c,d=m2.shape\n",
        "    if b!=c and a!=d:\n",
        "        return False\n",
        "    \n",
        "    # TODO: If you have not returned False, then calculate the matrix product\n",
        "    #       of m1 and m2 and return it. Do not use a transpose,\n",
        "    #       but you swap their order if necessary\n",
        "    if(b==c): return np.matmul(m1,m2)\n",
        "    elif(a==d): return np.matmul(m2,m1) \n",
        "    \n",
        "\n",
        "def find_mean(values):\n",
        "    # TODO: Return the average of the values in the given Python list\n",
        "    return np.average(values)\n",
        "\n",
        "\n",
        "input_array, inputs_minus_min, inputs_div_max = prepare_inputs([-1,2,7])\n",
        "print(\"Input as Array: {}\".format(input_array))\n",
        "print(\"Input minus min: {}\".format(inputs_minus_min))\n",
        "print(\"Input  Array: {}\".format(inputs_div_max))\n",
        "\n",
        "print(\"Multiply 1:\\n{}\".format(multiply_inputs(np.array([[1,2,3],[4,5,6]]), np.array([[1],[2],[3],[4]]))))\n",
        "print(\"Multiply 2:\\n{}\".format(multiply_inputs(np.array([[1,2,3],[4,5,6]]), np.array([[1],[2],[3]]))))\n",
        "print(\"Multiply 3:\\n{}\".format(multiply_inputs(np.array([[1,2,3],[4,5,6]]), np.array([[1,2]]))))\n",
        "\n",
        "print(\"Mean == {}\".format(find_mean([1,3,4])))"
      ],
      "execution_count": 0,
      "outputs": [
        {
          "output_type": "stream",
          "text": [
            "Input as Array: [[-1  2  7]]\n",
            "Input minus min: [[0 3 8]]\n",
            "Input  Array: [[0.    0.375 1.   ]]\n",
            "Multiply 1:\n",
            "False\n",
            "Multiply 2:\n",
            "[[14]\n",
            " [32]]\n",
            "Multiply 3:\n",
            "[[ 9 12 15]]\n",
            "Mean == 2.6666666666666665\n"
          ],
          "name": "stdout"
        }
      ]
    },
    {
      "cell_type": "code",
      "metadata": {
        "id": "-jI0z6uEQ12-",
        "colab_type": "code",
        "colab": {}
      },
      "source": [
        ""
      ],
      "execution_count": 0,
      "outputs": []
    }
  ]
}